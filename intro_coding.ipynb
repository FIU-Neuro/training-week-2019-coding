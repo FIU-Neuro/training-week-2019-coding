{
 "cells": [
  {
   "cell_type": "code",
   "execution_count": 1,
   "metadata": {
    "collapsed": false,
    "deletable": true,
    "editable": true
   },
   "outputs": [],
   "source": [
    "import os\n",
    "from __future__ import print_function\n",
    "from numpy import array\n",
    "from IPython.display import Image\n",
    "PATH = os.getcwd()"
   ]
  },
  {
   "cell_type": "markdown",
   "metadata": {},
   "source": [
    "# ANACONDA INSTALLATION"
   ]
  },
  {
   "cell_type": "markdown",
   "metadata": {},
   "source": [
    "# https://docs.anaconda.com/anaconda/install/"
   ]
  },
  {
   "cell_type": "markdown",
   "metadata": {
    "collapsed": false,
    "deletable": true,
    "editable": true
   },
   "source": [
    "![python](https://mfr.osf.io/export?url=https://osf.io/3xzd5/?action=download%26mode=render%26direct%26public_file=True&initialWidth=684&childId=mfrIframe&parentTitle=OSF+%7C+python1.png&parentUrl=https://osf.io/3xzd5/&format=2400x2400.jpeg)"
   ]
  },
  {
   "cell_type": "markdown",
   "metadata": {
    "collapsed": false,
    "deletable": true,
    "editable": true
   },
   "source": [
    "![disclaimer](https://mfr.osf.io/export?url=https://osf.io/u25vq/?action=download%26mode=render%26direct%26public_file=True&initialWidth=684&childId=mfrIframe&parentTitle=OSF+%7C+disclaimer.png&parentUrl=https://osf.io/u25vq/&format=2400x2400.jpeg)"
   ]
  },
  {
   "cell_type": "markdown",
   "metadata": {
    "collapsed": false,
    "deletable": true,
    "editable": true
   },
   "source": [
    "![data](https://mfr.osf.io/export?url=https://osf.io/xzsny/?action=download%26mode=render%26direct%26public_file=True&initialWidth=684&childId=mfrIframe&parentTitle=OSF+%7C+data_types.png&parentUrl=https://osf.io/xzsny/&format=2400x2400.jpeg)"
   ]
  },
  {
   "cell_type": "markdown",
   "metadata": {
    "deletable": true,
    "editable": true
   },
   "source": [
    "# **PRIMATIVES**"
   ]
  },
  {
   "cell_type": "markdown",
   "metadata": {
    "collapsed": true,
    "deletable": true,
    "editable": true
   },
   "source": [
    "## Integers, Floats, Strings, and Booleans"
   ]
  },
  {
   "cell_type": "markdown",
   "metadata": {
    "deletable": true,
    "editable": true
   },
   "source": [
    "### Integers are values represented as whole numbers"
   ]
  },
  {
   "cell_type": "code",
   "execution_count": 2,
   "metadata": {
    "collapsed": false,
    "deletable": true,
    "editable": true
   },
   "outputs": [
    {
     "name": "stdout",
     "output_type": "stream",
     "text": [
      "<type 'int'>\n"
     ]
    }
   ],
   "source": [
    "int1 = 1 #whole number\n",
    "\n",
    "print(type(int1)) # The type() function allows us to the data type of a variable"
   ]
  },
  {
   "cell_type": "markdown",
   "metadata": {
    "deletable": true,
    "editable": true
   },
   "source": [
    "### Floats are values represented as decimals"
   ]
  },
  {
   "cell_type": "code",
   "execution_count": 3,
   "metadata": {
    "collapsed": false,
    "deletable": true,
    "editable": true
   },
   "outputs": [
    {
     "name": "stdout",
     "output_type": "stream",
     "text": [
      "<type 'float'>\n"
     ]
    }
   ],
   "source": [
    "float1 = 1.0 #decimal number\n",
    "\n",
    "print(type(float1))"
   ]
  },
  {
   "cell_type": "markdown",
   "metadata": {
    "deletable": true,
    "editable": true
   },
   "source": [
    "### Strings are sequences of characters -- letters, numbers, and/or symbols"
   ]
  },
  {
   "cell_type": "code",
   "execution_count": 4,
   "metadata": {
    "collapsed": false,
    "deletable": true,
    "editable": true
   },
   "outputs": [
    {
     "name": "stdout",
     "output_type": "stream",
     "text": [
      "<type 'str'>\n"
     ]
    }
   ],
   "source": [
    "string1 = 'hello_world' #characters in quotes\n",
    "\n",
    "print(type(string1))"
   ]
  },
  {
   "cell_type": "markdown",
   "metadata": {
    "deletable": true,
    "editable": true
   },
   "source": [
    "### Boolean values are binary, representing \"True\" and \"False\""
   ]
  },
  {
   "cell_type": "code",
   "execution_count": 5,
   "metadata": {
    "collapsed": false,
    "deletable": true,
    "editable": true
   },
   "outputs": [
    {
     "name": "stdout",
     "output_type": "stream",
     "text": [
      "<type 'bool'>\n",
      "<type 'bool'>\n"
     ]
    }
   ],
   "source": [
    "value1 = True\n",
    "value2 = False\n",
    "\n",
    "print(type(value1))\n",
    "print(type(value2))\n",
    "\n",
    "# Booleans are most often used in conditional statements or while loops to indicate when a process should begin or end"
   ]
  },
  {
   "cell_type": "markdown",
   "metadata": {
    "deletable": true,
    "editable": true
   },
   "source": [
    "# -----------------------------------------------------------------------------"
   ]
  },
  {
   "cell_type": "markdown",
   "metadata": {
    "deletable": true,
    "editable": true
   },
   "source": [
    "# **NON-PRIMATIVES**"
   ]
  },
  {
   "cell_type": "markdown",
   "metadata": {
    "deletable": true,
    "editable": true
   },
   "source": [
    "# *-- LISTS VS ARRAYS: SIMILARITIES & DIFFERENCES --*"
   ]
  },
  {
   "cell_type": "markdown",
   "metadata": {
    "deletable": true,
    "editable": true
   },
   "source": [
    "## - LISTS -\n",
    "\n",
    "* Variables containing an ordered group of elements"
   ]
  },
  {
   "cell_type": "code",
   "execution_count": 6,
   "metadata": {
    "collapsed": false,
    "deletable": true,
    "editable": true
   },
   "outputs": [
    {
     "name": "stdout",
     "output_type": "stream",
     "text": [
      "It can change! [1, 2, 3, 4, 5, 6, 7, 8, 10]\n"
     ]
    }
   ],
   "source": [
    "list1 = [1,2,3,4,5,6,7,8]\n",
    "list1.append(10) #add 10 to the end of the list\n",
    "print('It can change!', list1)"
   ]
  },
  {
   "cell_type": "markdown",
   "metadata": {
    "deletable": true,
    "editable": true
   },
   "source": [
    "### Indexable \n",
    "* Can be used to isolate specific values"
   ]
  },
  {
   "cell_type": "markdown",
   "metadata": {
    "collapsed": false,
    "deletable": true,
    "editable": true
   },
   "source": [
    "![index](https://qph.fs.quoracdn.net/main-qimg-a380b1bc159589df5e0b9842e5b56b6d)"
   ]
  },
  {
   "cell_type": "code",
   "execution_count": 7,
   "metadata": {
    "collapsed": false,
    "deletable": true,
    "editable": true
   },
   "outputs": [
    {
     "name": "stdout",
     "output_type": "stream",
     "text": [
      "Select the same item in list2 4 4\n"
     ]
    }
   ],
   "source": [
    "list2 = [1,2,3,4,5,6,7,8]\n",
    "\n",
    "item1 = list2[3]\n",
    "item2 = list2[-5]\n",
    "\n",
    "print('Select the same item in list2', item1, item2)"
   ]
  },
  {
   "cell_type": "markdown",
   "metadata": {
    "deletable": true,
    "editable": true
   },
   "source": [
    "### Sliceable\n",
    "* Multiple values within a list can be selected"
   ]
  },
  {
   "cell_type": "code",
   "execution_count": 8,
   "metadata": {
    "collapsed": false,
    "deletable": true,
    "editable": true
   },
   "outputs": [
    {
     "name": "stdout",
     "output_type": "stream",
     "text": [
      "Select multiple specific values [3, 4, 5, 6]\n"
     ]
    }
   ],
   "source": [
    "list3 = [1,2,3,4,5,6,7,8]\n",
    "\n",
    "slice_list3 = list3[2:-2] #use both types of index methods to grab list values 3 - 6\n",
    "print('Select multiple specific values', slice_list3)"
   ]
  },
  {
   "cell_type": "markdown",
   "metadata": {
    "deletable": true,
    "editable": true
   },
   "source": [
    "### Iterable\n",
    "* Using a loop, individual values can be used 1 (or more) at a time\n"
   ]
  },
  {
   "cell_type": "code",
   "execution_count": 9,
   "metadata": {
    "collapsed": false,
    "deletable": true,
    "editable": true
   },
   "outputs": [
    {
     "name": "stdout",
     "output_type": "stream",
     "text": [
      "1\n",
      "2\n",
      "3\n",
      "4\n",
      "5\n",
      "6\n",
      "7\n",
      "8\n"
     ]
    }
   ],
   "source": [
    "list4 = [1,2,3,4,5,6,7,8]\n",
    "\n",
    "for i in list4:\n",
    "    print(i)"
   ]
  },
  {
   "cell_type": "markdown",
   "metadata": {
    "deletable": true,
    "editable": true
   },
   "source": [
    "### Lists _do not_ allow arithmetic operations on elements\n",
    "\n",
    "* If one tries, the following error will be returned:"
   ]
  },
  {
   "cell_type": "code",
   "execution_count": 10,
   "metadata": {
    "collapsed": false,
    "deletable": true,
    "editable": true
   },
   "outputs": [
    {
     "ename": "TypeError",
     "evalue": "unsupported operand type(s) for /: 'list' and 'float'",
     "output_type": "error",
     "traceback": [
      "\u001b[0;31m---------------------------------------------------------------------------\u001b[0m",
      "\u001b[0;31mTypeError\u001b[0m                                 Traceback (most recent call last)",
      "\u001b[0;32m<ipython-input-10-d14f240de85e>\u001b[0m in \u001b[0;36m<module>\u001b[0;34m()\u001b[0m\n\u001b[1;32m      1\u001b[0m \u001b[0mlist4\u001b[0m \u001b[0;34m=\u001b[0m \u001b[0;34m[\u001b[0m\u001b[0;36m1\u001b[0m\u001b[0;34m,\u001b[0m\u001b[0;36m2\u001b[0m\u001b[0;34m,\u001b[0m\u001b[0;36m3\u001b[0m\u001b[0;34m,\u001b[0m\u001b[0;36m4\u001b[0m\u001b[0;34m,\u001b[0m\u001b[0;36m5\u001b[0m\u001b[0;34m,\u001b[0m\u001b[0;36m6\u001b[0m\u001b[0;34m,\u001b[0m\u001b[0;36m7\u001b[0m\u001b[0;34m,\u001b[0m\u001b[0;36m8\u001b[0m\u001b[0;34m]\u001b[0m\u001b[0;34m\u001b[0m\u001b[0m\n\u001b[1;32m      2\u001b[0m \u001b[0;34m\u001b[0m\u001b[0m\n\u001b[0;32m----> 3\u001b[0;31m \u001b[0mlist4_half\u001b[0m \u001b[0;34m=\u001b[0m \u001b[0mlist4\u001b[0m\u001b[0;34m/\u001b[0m\u001b[0;36m2.\u001b[0m\u001b[0;34m\u001b[0m\u001b[0m\n\u001b[0m",
      "\u001b[0;31mTypeError\u001b[0m: unsupported operand type(s) for /: 'list' and 'float'"
     ]
    }
   ],
   "source": [
    "list4 = [1,2,3,4,5,6,7,8]\n",
    "\n",
    "list4_half = list4/2."
   ]
  },
  {
   "cell_type": "markdown",
   "metadata": {
    "deletable": true,
    "editable": true
   },
   "source": [
    "## - ARRAYS -"
   ]
  },
  {
   "cell_type": "markdown",
   "metadata": {
    "deletable": true,
    "editable": true
   },
   "source": [
    "### Allow you to do everything as with lists, BUT ALSO MATH!! "
   ]
  },
  {
   "cell_type": "code",
   "execution_count": 11,
   "metadata": {
    "collapsed": false,
    "deletable": true,
    "editable": true
   },
   "outputs": [
    {
     "name": "stdout",
     "output_type": "stream",
     "text": [
      "We can divide! [ 0.5  1.   1.5  2.   2.5  3.   3.5  4. ]\n",
      "We can multiply! [  2.   4.   6.   8.  10.  12.  14.  16.]\n"
     ]
    }
   ],
   "source": [
    "array1 = array([1,2,3,4,5,6,7,8]) #array method surrounds the bracketed list, converting into an array\n",
    "\n",
    "divided_array = array1/2.\n",
    "print('We can divide!', divided_array)\n",
    "\n",
    "multiplied_array = array1*2.\n",
    "print('We can multiply!', multiplied_array)"
   ]
  },
  {
   "cell_type": "markdown",
   "metadata": {
    "deletable": true,
    "editable": true
   },
   "source": [
    "### You can get as complicated as necessary..."
   ]
  },
  {
   "cell_type": "code",
   "execution_count": 12,
   "metadata": {
    "collapsed": false,
    "deletable": true,
    "editable": true
   },
   "outputs": [
    {
     "name": "stdout",
     "output_type": "stream",
     "text": [
      "[ 0.2  0.4  0.6  0.8  1.   1.2  1.4  1.6]\n"
     ]
    }
   ],
   "source": [
    "complex_array = array1*2/10. # Make sure to remember PEMDAS!\n",
    "\n",
    "print(complex_array)"
   ]
  },
  {
   "cell_type": "markdown",
   "metadata": {
    "deletable": true,
    "editable": true
   },
   "source": [
    "### ...but think carefully about the _structure_ of your data and how you _manipulate_ it."
   ]
  },
  {
   "cell_type": "code",
   "execution_count": 13,
   "metadata": {
    "collapsed": false,
    "deletable": true,
    "editable": true
   },
   "outputs": [
    {
     "name": "stdout",
     "output_type": "stream",
     "text": [
      "This doesn't seem right... [0 0 0 0 1 1 1 1]\n"
     ]
    }
   ],
   "source": [
    "array1 = array([1,2,3,4,5,6,7,8]) # these values are integers\n",
    "\n",
    "complex_array = array1*2/10 # the values you are using to change the array are integers too\n",
    "print(\"This doesn't seem right...\", complex_array)"
   ]
  },
  {
   "cell_type": "markdown",
   "metadata": {
    "deletable": true,
    "editable": true
   },
   "source": [
    "### There's two easy ways to fix this...\n",
    "\n",
    "#1. Add a decimal to any of number used to change the array values\n",
    "#2. Use the float() method to convert the numerator/denominator to a float"
   ]
  },
  {
   "cell_type": "code",
   "execution_count": 14,
   "metadata": {
    "collapsed": false,
    "deletable": true,
    "editable": true
   },
   "outputs": [
    {
     "name": "stdout",
     "output_type": "stream",
     "text": [
      "Adding a decimal works! [ 0.2  0.4  0.6  0.8  1.   1.2  1.4  1.6]\n",
      "Float method works too! [ 0.2  0.4  0.6  0.8  1.   1.2  1.4  1.6]\n"
     ]
    }
   ],
   "source": [
    "# Add a decimal\n",
    "complex_array1 = array1*2/10.\n",
    "print('Adding a decimal works!', complex_array1)\n",
    "\n",
    "# Convert using float function\n",
    "complex_array2 = array1*2/float(10)\n",
    "print('Float method works too!', complex_array2)"
   ]
  },
  {
   "cell_type": "markdown",
   "metadata": {
    "deletable": true,
    "editable": true
   },
   "source": [
    "## - TUPLES -"
   ]
  },
  {
   "cell_type": "markdown",
   "metadata": {
    "deletable": true,
    "editable": true
   },
   "source": [
    "### Tuples are collections of objects separated by commas, with or without parentheses\n",
    "* Lists are difference because the contents are surrounded by squarre brackets\n",
    "* Arrays have square brackets AND array()"
   ]
  },
  {
   "cell_type": "code",
   "execution_count": 15,
   "metadata": {
    "collapsed": false,
    "deletable": true,
    "editable": true
   },
   "outputs": [
    {
     "name": "stdout",
     "output_type": "stream",
     "text": [
      "<type 'tuple'>\n",
      "<type 'tuple'>\n",
      "<type 'list'>\n",
      "<type 'numpy.ndarray'>\n"
     ]
    }
   ],
   "source": [
    "tuple1 = ('item1', 'item2') \n",
    "tuple2 = 'item1', 'item2'\n",
    "\n",
    "list1 = ['item1', 'item2'] \n",
    "array1 = array(['item1', 'item2']) \n",
    "\n",
    "print(type(tuple1))\n",
    "print(type(tuple2))\n",
    "print(type(list1))\n",
    "print(type(array1))"
   ]
  },
  {
   "cell_type": "markdown",
   "metadata": {
    "deletable": true,
    "editable": true
   },
   "source": [
    "### Tuples cannot be changed, unlike lists and arrays\n",
    "* Multiply with parentheses at creation\n",
    "* Cannot append new values"
   ]
  },
  {
   "cell_type": "code",
   "execution_count": 16,
   "metadata": {
    "collapsed": false,
    "deletable": true,
    "editable": true
   },
   "outputs": [
    {
     "name": "stdout",
     "output_type": "stream",
     "text": [
      "[1, 2, 3, 4, 5, 6, 7, 8, 10]\n",
      "<type 'tuple'>\n",
      "('python', 'python', 'python')\n"
     ]
    },
    {
     "ename": "AttributeError",
     "evalue": "'tuple' object has no attribute 'append'",
     "output_type": "error",
     "traceback": [
      "\u001b[0;31m---------------------------------------------------------------------------\u001b[0m",
      "\u001b[0;31mAttributeError\u001b[0m                            Traceback (most recent call last)",
      "\u001b[0;32m<ipython-input-16-bf3ed4f01f32>\u001b[0m in \u001b[0;36m<module>\u001b[0;34m()\u001b[0m\n\u001b[1;32m      8\u001b[0m \u001b[0;34m\u001b[0m\u001b[0m\n\u001b[1;32m      9\u001b[0m \u001b[0mtuple2\u001b[0m \u001b[0;34m=\u001b[0m \u001b[0;34m(\u001b[0m\u001b[0;36m1\u001b[0m\u001b[0;34m,\u001b[0m\u001b[0;36m2\u001b[0m\u001b[0;34m,\u001b[0m\u001b[0;36m3\u001b[0m\u001b[0;34m,\u001b[0m\u001b[0;36m4\u001b[0m\u001b[0;34m,\u001b[0m\u001b[0;36m5\u001b[0m\u001b[0;34m,\u001b[0m\u001b[0;36m6\u001b[0m\u001b[0;34m,\u001b[0m\u001b[0;36m7\u001b[0m\u001b[0;34m,\u001b[0m\u001b[0;36m8\u001b[0m\u001b[0;34m)\u001b[0m\u001b[0;34m\u001b[0m\u001b[0m\n\u001b[0;32m---> 10\u001b[0;31m \u001b[0mtuple2\u001b[0m\u001b[0;34m.\u001b[0m\u001b[0mappend\u001b[0m\u001b[0;34m(\u001b[0m\u001b[0;36m10\u001b[0m\u001b[0;34m)\u001b[0m\u001b[0;34m\u001b[0m\u001b[0m\n\u001b[0m",
      "\u001b[0;31mAttributeError\u001b[0m: 'tuple' object has no attribute 'append'"
     ]
    }
   ],
   "source": [
    "list1 = [1,2,3,4,5,6,7,8]\n",
    "list1.append(10)\n",
    "print(list1)\n",
    "\n",
    "tuple1 = ('python',)*3\n",
    "print(type(tuple1))\n",
    "print(tuple1)\n",
    "\n",
    "tuple2 = (1,2,3,4,5,6,7,8)\n",
    "tuple2.append(10) "
   ]
  },
  {
   "cell_type": "markdown",
   "metadata": {
    "deletable": true,
    "editable": true
   },
   "source": [
    "### Tuples can be added together"
   ]
  },
  {
   "cell_type": "code",
   "execution_count": 17,
   "metadata": {
    "collapsed": false,
    "deletable": true,
    "editable": true
   },
   "outputs": [
    {
     "name": "stdout",
     "output_type": "stream",
     "text": [
      "(1, 2, 3, 4, 'A', 'B', 'C', 'D')\n"
     ]
    }
   ],
   "source": [
    "tuple1 = (1,2,3,4)\n",
    "tuple2 = ('A','B','C','D')\n",
    "new_mixed_object = tuple1 + tuple2\n",
    "print(new_mixed_object)"
   ]
  },
  {
   "cell_type": "markdown",
   "metadata": {
    "deletable": true,
    "editable": true
   },
   "source": [
    "# -- DICTIONARIES --"
   ]
  },
  {
   "cell_type": "markdown",
   "metadata": {
    "deletable": true,
    "editable": true
   },
   "source": [
    "### Create a dictionary using curly brackets, keys, and values in square brackets"
   ]
  },
  {
   "cell_type": "code",
   "execution_count": 18,
   "metadata": {
    "collapsed": false,
    "deletable": true,
    "editable": true
   },
   "outputs": [
    {
     "name": "stdout",
     "output_type": "stream",
     "text": [
      "<type 'dict'>\n",
      "{'key3': [11, 12, 13, 14, 15], 'key2': [6, 7, 8, 9, 10], 'key1': [1, 2, 3, 4, 5]}\n"
     ]
    }
   ],
   "source": [
    "dict1 = {'key1':[1,2,3,4,5], 'key2':[6,7,8,9,10], 'key3':[11,12,13,14,15]}\n",
    "\n",
    "print(type(dict1))\n",
    "print(dict1)"
   ]
  },
  {
   "cell_type": "markdown",
   "metadata": {
    "collapsed": true,
    "deletable": true,
    "editable": true
   },
   "source": [
    "### Dictionaries are *not* naturally ordered\n",
    "* Ordered dictionaries can be created using the OrderedDict()"
   ]
  },
  {
   "cell_type": "code",
   "execution_count": 19,
   "metadata": {
    "collapsed": false,
    "deletable": true,
    "editable": true
   },
   "outputs": [
    {
     "name": "stdout",
     "output_type": "stream",
     "text": [
      "OrderedDict([('key1', [1, 2, 3, 4, 5]), ('key2', [6, 7, 8, 9, 10]), ('key3', [11, 12, 13, 14, 15])])\n"
     ]
    }
   ],
   "source": [
    "from collections import OrderedDict \n",
    "\n",
    "dict1 = {'key1':[1,2,3,4,5], 'key2':[6,7,8,9,10], 'key3':[11,12,13,14,15]}\n",
    "\n",
    "keys = ['key1', 'key2', 'key3']\n",
    "list_of_tuples = [(key, dict1[key]) for key in keys] #list comprehension is awesome!!\n",
    "ordered_dict = OrderedDict(list_of_tuples)\n",
    "print(ordered_dict)"
   ]
  },
  {
   "cell_type": "markdown",
   "metadata": {
    "deletable": true,
    "editable": true
   },
   "source": [
    "### Values can be accessed and/or changed by referencing the key"
   ]
  },
  {
   "cell_type": "code",
   "execution_count": 20,
   "metadata": {
    "collapsed": false,
    "deletable": true,
    "editable": true
   },
   "outputs": [
    {
     "name": "stdout",
     "output_type": "stream",
     "text": [
      "original [1, 2, 3, 4, 5]\n",
      "edited [21, 22, 23, 24, 25]\n"
     ]
    }
   ],
   "source": [
    "print('original', ordered_dict['key1'])\n",
    "\n",
    "ordered_dict['key1'] = [21,22,23,24,25]\n",
    "print('edited', ordered_dict['key1'])"
   ]
  },
  {
   "cell_type": "markdown",
   "metadata": {
    "deletable": true,
    "editable": true
   },
   "source": [
    "### Specific items can be changed by referencing key and/or index"
   ]
  },
  {
   "cell_type": "code",
   "execution_count": 21,
   "metadata": {
    "collapsed": false,
    "deletable": true,
    "editable": true
   },
   "outputs": [
    {
     "name": "stdout",
     "output_type": "stream",
     "text": [
      "complete key-value [6, 7, 8, 9, 10]\n",
      "first item in key2 6\n",
      "first 4 items in key2 [6, 7, 8, 9]\n"
     ]
    }
   ],
   "source": [
    "print('complete key-value', ordered_dict['key2'])\n",
    "\n",
    "print('first item in key2', ordered_dict['key2'][0])\n",
    "print('first 4 items in key2', ordered_dict['key2'][0:4]) #you can slice just like lists and arrays!"
   ]
  },
  {
   "cell_type": "markdown",
   "metadata": {
    "deletable": true,
    "editable": true
   },
   "source": [
    "### New key-value pairs can be added to an existing dictionary"
   ]
  },
  {
   "cell_type": "code",
   "execution_count": 22,
   "metadata": {
    "collapsed": false,
    "deletable": true,
    "editable": true
   },
   "outputs": [
    {
     "name": "stdout",
     "output_type": "stream",
     "text": [
      "{'key3': [11, 12, 13, 14, 15], 'key2': [6, 7, 8, 9, 10], 'key1': [1, 2, 3, 4, 5], 'key4': [16, 17, 18, 19, 20]}\n"
     ]
    }
   ],
   "source": [
    "dict2 = {'key1':[1,2,3,4,5], 'key2':[6,7,8,9,10], 'key3':[11,12,13,14,15]}\n",
    "dict2['key4'] = [16,17,18,19,20]\n",
    "\n",
    "print(dict2)\n",
    "\n",
    "## If you add a new key-value pair to an ordered dictionary, it will be appended to the end and NOT ordered"
   ]
  },
  {
   "cell_type": "markdown",
   "metadata": {
    "deletable": true,
    "editable": true
   },
   "source": [
    "### You can remove key-value pairs using the .pop method"
   ]
  },
  {
   "cell_type": "code",
   "execution_count": 23,
   "metadata": {
    "collapsed": false,
    "deletable": true,
    "editable": true
   },
   "outputs": [
    {
     "name": "stdout",
     "output_type": "stream",
     "text": [
      "original dict2 {'key3': [11, 12, 13, 14, 15], 'key2': [6, 7, 8, 9, 10], 'key1': [1, 2, 3, 4, 5]}\n",
      "removing key2 {'key3': [11, 12, 13, 14, 15], 'key1': [1, 2, 3, 4, 5]}\n"
     ]
    }
   ],
   "source": [
    "dict2 = {'key1':[1,2,3,4,5], 'key2':[6,7,8,9,10], 'key3':[11,12,13,14,15]}\n",
    "\n",
    "print('original dict2', dict2)\n",
    "dict2.pop('key2')\n",
    "print('removing key2', dict2)"
   ]
  },
  {
   "cell_type": "markdown",
   "metadata": {
    "deletable": true,
    "editable": true
   },
   "source": [
    "# -----------------------------------------------------------------------------"
   ]
  },
  {
   "cell_type": "markdown",
   "metadata": {
    "deletable": true,
    "editable": true
   },
   "source": [
    "# PYTHON STATEMENT, INDENTATION, & COMMENTS\n",
    "* Before learning about loops, we need to understand how Python handles statements, blocks of code, and indentation"
   ]
  },
  {
   "cell_type": "code",
   "execution_count": 24,
   "metadata": {
    "collapsed": false,
    "deletable": true,
    "editable": true
   },
   "outputs": [
    {
     "name": "stdout",
     "output_type": "stream",
     "text": [
      "1\n"
     ]
    }
   ],
   "source": [
    "# Simple assignment statement\n",
    "variable = 1\n",
    "\n",
    "print(variable)"
   ]
  },
  {
   "cell_type": "markdown",
   "metadata": {
    "deletable": true,
    "editable": true
   },
   "source": [
    "### Multi-line statements, line breaks, and line continuation\n",
    "* Back slashes serve to break long lines of code into more readable pieces \n",
    "* a, b, and c return the same value"
   ]
  },
  {
   "cell_type": "code",
   "execution_count": 25,
   "metadata": {
    "collapsed": false,
    "deletable": true,
    "editable": true
   },
   "outputs": [
    {
     "name": "stdout",
     "output_type": "stream",
     "text": [
      "45\n",
      "45\n",
      "45\n"
     ]
    }
   ],
   "source": [
    "# Single line format\n",
    "a = 1 + 2 + 3 + 4 + 5 + 6 + 7 + 8 + 9\n",
    "\n",
    "# Line break format\n",
    "b = 1 + 2 + 3 + \\\n",
    "    4 + 5 + 6 + \\\n",
    "    7 + 8 + 9\n",
    "    \n",
    "# Line continuation\n",
    "c = (1 + 2 + 3 + 4 + 5 \n",
    "     + 6 + 7 + 8 + 9)\n",
    "    \n",
    "print(a)\n",
    "print(b)\n",
    "print(c)"
   ]
  },
  {
   "cell_type": "markdown",
   "metadata": {
    "deletable": true,
    "editable": true
   },
   "source": [
    "### How Python identifies blocks of code\n",
    "* Other languages, such as C++ and Java, use curly brackets to define blocks of code\n",
    "* Python uses indentation to organize code into coherent statements"
   ]
  },
  {
   "cell_type": "markdown",
   "metadata": {
    "deletable": true,
    "editable": true
   },
   "source": [
    "### A block of code typically begins with a loop, conditional statment, or function definition\n",
    "* Everything indented below the first line is interpreted as belonging to the same block of code\n",
    "* Indentations are 4 spaces (or one tab) from the preceding line\n",
    "* Indented code below is executed each time the for loop runs"
   ]
  },
  {
   "cell_type": "code",
   "execution_count": 26,
   "metadata": {
    "collapsed": false,
    "deletable": true,
    "editable": true
   },
   "outputs": [
    {
     "name": "stdout",
     "output_type": "stream",
     "text": [
      "1\n",
      "2\n",
      "3\n",
      "4\n",
      "5\n"
     ]
    }
   ],
   "source": [
    "for num in range(1,11): \n",
    "    print(num) #four spaces from for loop\n",
    "    if num == 5:\n",
    "        break #four spaces from if statement"
   ]
  },
  {
   "cell_type": "markdown",
   "metadata": {
    "deletable": true,
    "editable": true
   },
   "source": [
    "### Comments\n",
    "* Comments are **life-savers** and the greatest gift you can give to your future selves\n",
    "## Comment _EVERYTHING_"
   ]
  },
  {
   "cell_type": "markdown",
   "metadata": {
    "collapsed": false,
    "deletable": true,
    "editable": true
   },
   "source": [
    "<img src=\"https://mfr.osf.io/export?url=https://osf.io/dvucw/?action=download%26mode=render%26direct%26public_file=True&initialWidth=684&childId=mfrIframe&parentTitle=OSF+%7C+comments.png&parentUrl=https://osf.io/dvucw/&format=2400x2400.jpeg\"\n",
    "     alt=\"commenting\"\n",
    "     style=\"float: left; width: 400px\" />"
   ]
  },
  {
   "cell_type": "markdown",
   "metadata": {
    "deletable": true,
    "editable": true
   },
   "source": [
    "### Use # at the beginning of a new line to write a comment\n",
    "### You can also add a comment using # at the end of a line of code"
   ]
  },
  {
   "cell_type": "code",
   "execution_count": 27,
   "metadata": {
    "collapsed": false,
    "deletable": true,
    "editable": true
   },
   "outputs": [
    {
     "name": "stdout",
     "output_type": "stream",
     "text": [
      "[1, 2, 3, 4, 5, 6, 7, 8, 10]\n"
     ]
    }
   ],
   "source": [
    "#loops through all colors and suits\n",
    "\n",
    "print(list1) #prints all values contained in list1"
   ]
  },
  {
   "cell_type": "markdown",
   "metadata": {
    "deletable": true,
    "editable": true
   },
   "source": [
    "### Multi-line comments\n",
    "* If your comments are longer than a single line, you can easily break them into multiple lines using multiple # or three single quotes (''' ''') or three double quotes (\"\"\" \"\"\")"
   ]
  },
  {
   "cell_type": "code",
   "execution_count": 28,
   "metadata": {
    "collapsed": false,
    "deletable": true,
    "editable": true
   },
   "outputs": [
    {
     "data": {
      "text/plain": [
       "\"\\nAccording to all known laws of aviation, there is no way a bee should be able to fly. \\nIts wings are too small to get its fat little body off the ground.\\nThe bee, of course, flies anyway because bees don't care what humans think is impossible. \\nYellow, black. Yellow, black. Yellow, black. Ooh, black and yellow! Let's shake it up a little.\\n\""
      ]
     },
     "execution_count": 28,
     "metadata": {},
     "output_type": "execute_result"
    }
   ],
   "source": [
    "#According to all known laws of aviation, there is no way a bee should be able to fly. \n",
    "#Its wings are too small to get its fat little body off the ground.\n",
    "#The bee, of course, flies anyway because bees don't care what humans think is impossible. \n",
    "#Yellow, black. Yellow, black. Yellow, black. Ooh, black and yellow! Let's shake it up a little.\n",
    "\n",
    "'''\n",
    "According to all known laws of aviation, there is no way a bee should be able to fly. \n",
    "Its wings are too small to get its fat little body off the ground.\n",
    "The bee, of course, flies anyway because bees don't care what humans think is impossible. \n",
    "Yellow, black. Yellow, black. Yellow, black. Ooh, black and yellow! Let's shake it up a little.\n",
    "'''"
   ]
  },
  {
   "cell_type": "markdown",
   "metadata": {
    "deletable": true,
    "editable": true
   },
   "source": [
    "# -----------------------------------------------------------------------------"
   ]
  },
  {
   "cell_type": "markdown",
   "metadata": {
    "collapsed": true,
    "deletable": true,
    "editable": true
   },
   "source": [
    "# LOOPS"
   ]
  },
  {
   "cell_type": "markdown",
   "metadata": {
    "deletable": true,
    "editable": true
   },
   "source": [
    "## -- FOR LOOPS --\n",
    "* Allows code to iterate (repeat) over a sequence (list, tuple, dictionary, string, etc)"
   ]
  },
  {
   "cell_type": "markdown",
   "metadata": {
    "deletable": true,
    "editable": true
   },
   "source": [
    "### Simple for loop over a list of strings"
   ]
  },
  {
   "cell_type": "code",
   "execution_count": 29,
   "metadata": {
    "collapsed": false,
    "deletable": true,
    "editable": true
   },
   "outputs": [
    {
     "name": "stdout",
     "output_type": "stream",
     "text": [
      "apple\n",
      "banana\n",
      "cherry\n"
     ]
    }
   ],
   "source": [
    "fruits = [\"apple\", \"banana\", \"cherry\"]\n",
    "for this_fruit in fruits:\n",
    "    print(this_fruit)"
   ]
  },
  {
   "cell_type": "markdown",
   "metadata": {
    "deletable": true,
    "editable": true
   },
   "source": [
    "### Simple for loop over the letters in a string"
   ]
  },
  {
   "cell_type": "code",
   "execution_count": 30,
   "metadata": {
    "collapsed": false,
    "deletable": true,
    "editable": true
   },
   "outputs": [
    {
     "name": "stdout",
     "output_type": "stream",
     "text": [
      "b\n",
      "a\n",
      "n\n",
      "a\n",
      "n\n",
      "a\n"
     ]
    }
   ],
   "source": [
    "for letter in \"banana\":\n",
    "    print(letter)"
   ]
  },
  {
   "cell_type": "markdown",
   "metadata": {
    "deletable": true,
    "editable": true
   },
   "source": [
    "### Breaking for loops\n",
    "* Stop the loop before it has completed the list"
   ]
  },
  {
   "cell_type": "code",
   "execution_count": 31,
   "metadata": {
    "collapsed": false,
    "deletable": true,
    "editable": true
   },
   "outputs": [
    {
     "name": "stdout",
     "output_type": "stream",
     "text": [
      "apple\n",
      "banana\n"
     ]
    }
   ],
   "source": [
    "fruits = [\"apple\", \"banana\", \"cherry\"]\n",
    "for this_fruit in fruits:\n",
    "    print(this_fruit) \n",
    "    if this_fruit == \"banana\":\n",
    "        break"
   ]
  },
  {
   "cell_type": "markdown",
   "metadata": {
    "deletable": true,
    "editable": true
   },
   "source": [
    "### Continuing for loops\n",
    "* Stop a current iteration and continue to the next element in the list"
   ]
  },
  {
   "cell_type": "code",
   "execution_count": 32,
   "metadata": {
    "collapsed": false,
    "deletable": true,
    "editable": true
   },
   "outputs": [
    {
     "name": "stdout",
     "output_type": "stream",
     "text": [
      "apple\n",
      "cherry\n"
     ]
    }
   ],
   "source": [
    "fruits = [\"apple\", \"banana\", \"cherry\"]\n",
    "for this_fruit in fruits:\n",
    "    if this_fruit == \"banana\":\n",
    "        continue\n",
    "    print(this_fruit)"
   ]
  },
  {
   "cell_type": "markdown",
   "metadata": {
    "deletable": true,
    "editable": true
   },
   "source": [
    "### Nested for loops\n",
    "* Iteration through multiple lists\n",
    "* Loops 10 times (number of teams X number of mains)"
   ]
  },
  {
   "cell_type": "code",
   "execution_count": 33,
   "metadata": {
    "collapsed": false,
    "deletable": true,
    "editable": true
   },
   "outputs": [
    {
     "name": "stdout",
     "output_type": "stream",
     "text": [
      "Red Heavy\n",
      "Red Spy\n",
      "Red Scout\n",
      "Red Medic\n",
      "Red Pyro\n",
      "Blue Heavy\n",
      "Blue Spy\n",
      "Blue Scout\n",
      "Blue Medic\n",
      "Blue Pyro\n"
     ]
    }
   ],
   "source": [
    "teams = ['Red', 'Blue']\n",
    "mains = ['Heavy', 'Spy', 'Scout', 'Medic', 'Pyro']\n",
    "\n",
    "for this_team in teams:\n",
    "    for this_main in mains:\n",
    "        print(this_team, this_main)"
   ]
  },
  {
   "cell_type": "markdown",
   "metadata": {
    "deletable": true,
    "editable": true
   },
   "source": [
    "### Enumeration of elements\n",
    "* Provides the index of the current item in the iteration (i.e. this_main)\n",
    "* Kinda like counting the number of times the loop iterates (starting at 0)"
   ]
  },
  {
   "cell_type": "code",
   "execution_count": 35,
   "metadata": {
    "collapsed": false,
    "deletable": true,
    "editable": true
   },
   "outputs": [
    {
     "name": "stdout",
     "output_type": "stream",
     "text": [
      "1 Heavy\n",
      "2 Spy\n",
      "3 Scout\n",
      "4 Medic\n",
      "5 Pyro\n"
     ]
    }
   ],
   "source": [
    "mains = ['Heavy', 'Spy', 'Scout', 'Medic', 'Pyro']\n",
    "\n",
    "for i, this_main in enumerate(mains):\n",
    "    print(i+1, this_main) #if 1 is added to i, it's just like counting!"
   ]
  },
  {
   "cell_type": "markdown",
   "metadata": {
    "deletable": true,
    "editable": true
   },
   "source": [
    "## -- WHILE LOOPS --\n",
    "\n",
    "* Allows code to iterate (repeat) until a particular condition is met\n",
    "* Good for when the number of necessary iterations is unknown\n",
    "    * Counters and/or booleans are usually needed"
   ]
  },
  {
   "cell_type": "markdown",
   "metadata": {
    "deletable": true,
    "editable": true
   },
   "source": [
    "### Simple while loop with counter condition"
   ]
  },
  {
   "cell_type": "code",
   "execution_count": 36,
   "metadata": {
    "collapsed": false,
    "deletable": true,
    "editable": true
   },
   "outputs": [
    {
     "name": "stdout",
     "output_type": "stream",
     "text": [
      "0\n",
      "1\n",
      "2\n",
      "3\n",
      "4\n"
     ]
    }
   ],
   "source": [
    "counter = 0\n",
    "\n",
    "while counter < 5:\n",
    "    print(counter)\n",
    "    counter += 1  "
   ]
  },
  {
   "cell_type": "markdown",
   "metadata": {
    "deletable": true,
    "editable": true
   },
   "source": [
    "### Simple while loop with counter AND boolean"
   ]
  },
  {
   "cell_type": "code",
   "execution_count": 37,
   "metadata": {
    "collapsed": false,
    "deletable": true,
    "editable": true
   },
   "outputs": [
    {
     "name": "stdout",
     "output_type": "stream",
     "text": [
      "True\n",
      "True\n",
      "True\n",
      "False\n"
     ]
    }
   ],
   "source": [
    "boolean = True\n",
    "counter = 0\n",
    "\n",
    "while boolean == True: #equivalent test\n",
    "    counter +=1\n",
    "    print(boolean)\n",
    "    if counter == 3:\n",
    "        boolean = False #reassignment\n",
    "        print(boolean)"
   ]
  },
  {
   "cell_type": "markdown",
   "metadata": {
    "deletable": true,
    "editable": true
   },
   "source": [
    "### Breaking while loops\n",
    "* Terminate the while loop using **break**"
   ]
  },
  {
   "cell_type": "code",
   "execution_count": 38,
   "metadata": {
    "collapsed": false,
    "deletable": true,
    "editable": true
   },
   "outputs": [
    {
     "name": "stdout",
     "output_type": "stream",
     "text": [
      "1\n",
      "2\n",
      "3\n"
     ]
    }
   ],
   "source": [
    "counter = 1\n",
    "while True: # it would go forever!\n",
    "    print(counter)\n",
    "    if counter == 3:\n",
    "        break # terminate once counter reaches 3\n",
    "    counter += 1  "
   ]
  },
  {
   "cell_type": "markdown",
   "metadata": {
    "collapsed": true,
    "deletable": true,
    "editable": true
   },
   "source": [
    "### Continuing while loops\n",
    "* Stop the current iteration and continue to the next"
   ]
  },
  {
   "cell_type": "code",
   "execution_count": 39,
   "metadata": {
    "collapsed": false,
    "deletable": true,
    "editable": true
   },
   "outputs": [
    {
     "name": "stdout",
     "output_type": "stream",
     "text": [
      "1\n",
      "2\n",
      "4\n",
      "5\n",
      "6\n"
     ]
    }
   ],
   "source": [
    "counter = 0\n",
    "while counter < 6:\n",
    "    counter += 1 \n",
    "    if counter == 3:\n",
    "        continue #continue after counter reaches 3\n",
    "    print(counter)"
   ]
  },
  {
   "cell_type": "markdown",
   "metadata": {
    "deletable": true,
    "editable": true
   },
   "source": [
    "## -- FROOT LOOPS --\n",
    "* Just tastes good"
   ]
  },
  {
   "cell_type": "markdown",
   "metadata": {
    "collapsed": false,
    "deletable": true,
    "editable": true
   },
   "source": [
    "![frooooooot](https://mfr.osf.io/export?url=https://osf.io/a7zrj/?action=download%26mode=render%26direct%26public_file=True&initialWidth=684&childId=mfrIframe&parentTitle=OSF+%7C+froot_loops.png&parentUrl=https://osf.io/a7zrj/&format=2400x2400.jpeg)"
   ]
  },
  {
   "cell_type": "markdown",
   "metadata": {
    "collapsed": true,
    "deletable": true,
    "editable": true
   },
   "source": [
    "# CONDITIONAL STATEMENTS"
   ]
  },
  {
   "cell_type": "markdown",
   "metadata": {
    "deletable": true,
    "editable": true
   },
   "source": [
    "## Comparison Operators\n",
    "* Operators that allow conditional statements to compare values"
   ]
  },
  {
   "cell_type": "markdown",
   "metadata": {
    "collapsed": false,
    "deletable": true,
    "editable": true
   },
   "source": [
    "![comp ops](https://mfr.osf.io/export?url=https://osf.io/pxcqb/?action=download%26mode=render%26direct%26public_file=True&initialWidth=684&childId=mfrIframe&parentTitle=OSF+%7C+comparison_ops.png&parentUrl=https://osf.io/pxcqb/&format=2400x2400.jpeg)"
   ]
  },
  {
   "cell_type": "markdown",
   "metadata": {
    "deletable": true,
    "editable": true
   },
   "source": [
    "## -- IF, ELIF, AND ELSE --"
   ]
  },
  {
   "cell_type": "code",
   "execution_count": 40,
   "metadata": {
    "collapsed": false,
    "deletable": true,
    "editable": true
   },
   "outputs": [
    {
     "name": "stdout",
     "output_type": "stream",
     "text": [
      "A\n"
     ]
    }
   ],
   "source": [
    "grade = 90\n",
    "letter = \"\"\n",
    "\n",
    "if grade >= 90:\n",
    "    letter = \"A\"\n",
    "elif grade >= 80:\n",
    "    letter = \"B\"\n",
    "elif grade >= 70:\n",
    "    letter = \"C\"\n",
    "elif grade >= 60:\n",
    "    letter = \"D\"\n",
    "else:\n",
    "    letter = \"F\"\n",
    "    \n",
    "print(letter)"
   ]
  },
  {
   "cell_type": "markdown",
   "metadata": {
    "deletable": true,
    "editable": true
   },
   "source": [
    "### Using conditional statements in a loop"
   ]
  },
  {
   "cell_type": "code",
   "execution_count": 41,
   "metadata": {
    "collapsed": false,
    "deletable": true,
    "editable": true
   },
   "outputs": [
    {
     "name": "stdout",
     "output_type": "stream",
     "text": [
      "['C', 'C', 'F', 'A', 'B', 'D', 'A', 'C', 'B', 'A']\n"
     ]
    }
   ],
   "source": [
    "class_grades = [75, 77, 56, 97, 87, 67, 92, 73, 88, 95]\n",
    "class_letters = []\n",
    "\n",
    "for grade in class_grades:\n",
    "    if grade >= 90:\n",
    "        letter = \"A\"\n",
    "    elif grade >= 80:\n",
    "        letter = \"B\"\n",
    "    elif grade >= 70:\n",
    "        letter = \"C\"\n",
    "    elif grade >= 60:\n",
    "        letter = \"D\"\n",
    "    else:\n",
    "        letter = \"F\"\n",
    "    class_letters.append(letter)\n",
    "print(class_letters)"
   ]
  },
  {
   "cell_type": "markdown",
   "metadata": {
    "deletable": true,
    "editable": true
   },
   "source": [
    "# -----------------------------------------------------------------------------"
   ]
  },
  {
   "cell_type": "markdown",
   "metadata": {
    "collapsed": true,
    "deletable": true,
    "editable": true
   },
   "source": [
    "# ADDRESSING EXCEPTIONS (ERRORS)"
   ]
  },
  {
   "cell_type": "markdown",
   "metadata": {
    "collapsed": true,
    "deletable": true,
    "editable": true
   },
   "source": [
    "![error types](https://mfr.osf.io/export?url=https://osf.io/mwvdf/?action=download%26mode=render%26direct%26public_file=True&initialWidth=684&childId=mfrIframe&parentTitle=OSF+%7C+error_types.png&parentUrl=https://osf.io/mwvdf/&format=2400x2400.jpeg)"
   ]
  },
  {
   "cell_type": "markdown",
   "metadata": {
    "deletable": true,
    "editable": true
   },
   "source": [
    "# -----------------------------------------------------------------------------"
   ]
  },
  {
   "cell_type": "markdown",
   "metadata": {
    "deletable": true,
    "editable": true
   },
   "source": [
    "# BEGINNER EXERCISE"
   ]
  },
  {
   "cell_type": "markdown",
   "metadata": {
    "deletable": true,
    "editable": true
   },
   "source": [
    "### Write a short script to create a list containing all friendly mobs, then print it!\n"
   ]
  },
  {
   "cell_type": "code",
   "execution_count": 42,
   "metadata": {
    "collapsed": true,
    "deletable": true,
    "editable": true
   },
   "outputs": [],
   "source": [
    "mobs = ['creepers', 'wolf', 'cat', 'zombie', 'skeleton', 'dolphin']\n",
    "behavior = [0,1,1,0,0,1] # 0 = hostile, 1 = friendly"
   ]
  },
  {
   "cell_type": "markdown",
   "metadata": {
    "collapsed": false,
    "deletable": true,
    "editable": true
   },
   "source": [
    "<img src=\"https://mfr.osf.io/export?url=https://osf.io/nhcem/?action=download%26mode=render%26direct%26public_file=True&initialWidth=684&childId=mfrIframe&parentTitle=OSF+%7C+arithmetic_ops.png&parentUrl=https://osf.io/nhcem/&format=2400x2400.jpeg\"\n",
    "     alt=\"commenting\"\n",
    "     style=\"float: left; width: 700px\" />"
   ]
  },
  {
   "cell_type": "markdown",
   "metadata": {
    "collapsed": false,
    "deletable": true,
    "editable": true
   },
   "source": [
    "<img src=\"https://mfr.osf.io/export?url=https://osf.io/pnurq/?action=download%26mode=render%26direct%26public_file=True&initialWidth=684&childId=mfrIframe&parentTitle=OSF+%7C+logical_ops.png&parentUrl=https://osf.io/pnurq/&format=2400x2400.jpeg\"\n",
    "     alt=\"commenting\"\n",
    "     style=\"float: left; width: 600px\" />"
   ]
  },
  {
   "cell_type": "markdown",
   "metadata": {
    "deletable": true,
    "editable": true
   },
   "source": [
    "# -----------------------------------------------------------------------------"
   ]
  },
  {
   "cell_type": "markdown",
   "metadata": {
    "collapsed": false,
    "deletable": true,
    "editable": true
   },
   "source": [
    "![imports pic](https://mfr.osf.io/export?url=https://osf.io/4mj5c/?action=download%26mode=render%26direct%26public_file=True&initialWidth=684&childId=mfrIframe&parentTitle=OSF+%7C+imports.png&parentUrl=https://osf.io/4mj5c/&format=2400x2400.jpeg) "
   ]
  },
  {
   "cell_type": "markdown",
   "metadata": {
    "collapsed": true,
    "deletable": true,
    "editable": true
   },
   "source": [
    "# NumPy \n",
    "## Library for scientific computing in Python\n",
    "## https://www.numpy.org"
   ]
  },
  {
   "cell_type": "markdown",
   "metadata": {
    "collapsed": true,
    "deletable": true,
    "editable": true
   },
   "source": [
    "### NumPy - IMPORTING - "
   ]
  },
  {
   "cell_type": "code",
   "execution_count": 43,
   "metadata": {
    "collapsed": true
   },
   "outputs": [],
   "source": [
    "import numpy #general importing\n",
    "import numpy as np # alias importing"
   ]
  },
  {
   "cell_type": "markdown",
   "metadata": {},
   "source": [
    "### NumPy - IMPORTING SPECIFIC PACKAGES AND/OR TOOLS - "
   ]
  },
  {
   "cell_type": "code",
   "execution_count": 44,
   "metadata": {
    "collapsed": false
   },
   "outputs": [
    {
     "name": "stdout",
     "output_type": "stream",
     "text": [
      "1 0.219135280115\n",
      "2 0.835939467275\n",
      "3 0.624818276342\n",
      "4 0.340759566989\n"
     ]
    }
   ],
   "source": [
    "from numpy import random #import the entire random package\n",
    "\n",
    "print(1, numpy.random.random())\n",
    "print(2, np.random.random())\n",
    "print(3, random.random())\n",
    "\n",
    "from numpy.random import random #import only the specific random function within the random package\n",
    "print(4, random())"
   ]
  },
  {
   "cell_type": "markdown",
   "metadata": {},
   "source": [
    "## NumPy arrays are your friends\n",
    "* Allows simultaneous mathematical computations on the elements of an array\n",
    "* Easily reshapeable\n",
    "* Easily searchable\n",
    "* Gotta go _fast_"
   ]
  },
  {
   "cell_type": "code",
   "execution_count": 45,
   "metadata": {
    "collapsed": false
   },
   "outputs": [
    {
     "name": "stdout",
     "output_type": "stream",
     "text": [
      "<type 'numpy.ndarray'>\n",
      "(3,)\n"
     ]
    }
   ],
   "source": [
    "D1_array = np.array([1, 2, 3]) #1D array\n",
    "print(type(D1_array))  \n",
    "print(D1_array.shape)"
   ]
  },
  {
   "cell_type": "code",
   "execution_count": 46,
   "metadata": {
    "collapsed": false
   },
   "outputs": [
    {
     "name": "stdout",
     "output_type": "stream",
     "text": [
      "(2, 3)\n",
      "1 2 4\n"
     ]
    }
   ],
   "source": [
    "D2_array = np.array([[1,2,3],\n",
    "                     [4,5,6]]) #2D array\n",
    "print(D2_array.shape)\n",
    "print(D2_array[0, 0], D2_array[0, 1], D2_array[1, 0])"
   ]
  },
  {
   "cell_type": "markdown",
   "metadata": {},
   "source": [
    "### Searching arrays using np.where()\n",
    "* Make a random 4x4 array and find all values greater than 0.5\n",
    "* Create variable to contain all indices in array1 greater than 0.5\n",
    "* Print greater_05 to review elements"
   ]
  },
  {
   "cell_type": "code",
   "execution_count": 47,
   "metadata": {
    "collapsed": false
   },
   "outputs": [
    {
     "name": "stdout",
     "output_type": "stream",
     "text": [
      "initial random array \n",
      " [[ 0.63572496  0.6354901   0.32431798  0.83534734]\n",
      " [ 0.45645657  0.91749843  0.99906621  0.30198341]\n",
      " [ 0.27494496  0.47969581  0.33174023  0.72699435]\n",
      " [ 0.83362422  0.59494386  0.64128998  0.341547  ]]\n",
      "\n",
      "indices for elements > 0.5 \n",
      " [[0 0]\n",
      " [0 1]\n",
      " [0 3]\n",
      " [1 1]\n",
      " [1 2]\n",
      " [2 3]\n",
      " [3 0]\n",
      " [3 1]\n",
      " [3 2]]\n",
      "\n",
      "elements > 0.5 \n",
      " [ 0.63572496  0.6354901   0.83534734  0.91749843  0.99906621  0.72699435\n",
      "  0.83362422  0.59494386  0.64128998]\n"
     ]
    }
   ],
   "source": [
    "array1 = random(size=(4,4))\n",
    "print(\"initial random array \\n\", array1)\n",
    "print(\"\")\n",
    "greater_05 = np.where(array1 > .5)\n",
    "print(\"indices for elements > 0.5 \\n\", np.vstack(greater_05).T)\n",
    "print(\"\")\n",
    "print(\"elements > 0.5 \\n\", array1[greater_05])"
   ]
  },
  {
   "cell_type": "markdown",
   "metadata": {},
   "source": [
    "![numpy example](https://mfr.osf.io/export?url=https://osf.io/xundr/?action=download%26mode=render%26direct%26public_file=True&initialWidth=684&childId=mfrIframe&parentTitle=OSF+%7C+np_indexing.png&parentUrl=https://osf.io/xundr/&format=2400x2400.jpeg)"
   ]
  },
  {
   "cell_type": "markdown",
   "metadata": {},
   "source": [
    "## NumPy provides functions to create populated arrays"
   ]
  },
  {
   "cell_type": "code",
   "execution_count": 48,
   "metadata": {
    "collapsed": false
   },
   "outputs": [
    {
     "name": "stdout",
     "output_type": "stream",
     "text": [
      "[[ 0.  0.  0.]\n",
      " [ 0.  0.  0.]]\n"
     ]
    }
   ],
   "source": [
    "zeros_array = np.zeros((2,3)) # Create an array of all zeros\n",
    "print(zeros_array)"
   ]
  },
  {
   "cell_type": "code",
   "execution_count": 49,
   "metadata": {
    "collapsed": false
   },
   "outputs": [
    {
     "name": "stdout",
     "output_type": "stream",
     "text": [
      "[[ 1.  1.  1.]\n",
      " [ 1.  1.  1.]]\n"
     ]
    }
   ],
   "source": [
    "ones_array = np.ones((2,3))  # Create an array of all ones\n",
    "print(ones_array)  "
   ]
  },
  {
   "cell_type": "code",
   "execution_count": 50,
   "metadata": {
    "collapsed": false
   },
   "outputs": [
    {
     "name": "stdout",
     "output_type": "stream",
     "text": [
      "[[ 7.  7.  7.]\n",
      " [ 7.  7.  7.]]\n"
     ]
    },
    {
     "name": "stderr",
     "output_type": "stream",
     "text": [
      "//anaconda/lib/python2.7/site-packages/numpy/core/numeric.py:301: FutureWarning: in the future, full((2, 3), 7) will return an array of dtype('int64')\n",
      "  format(shape, fill_value, array(fill_value).dtype), FutureWarning)\n"
     ]
    }
   ],
   "source": [
    "full_array = np.full((2,3), 7)  # Create a constant array\n",
    "print(full_array) "
   ]
  },
  {
   "cell_type": "code",
   "execution_count": 51,
   "metadata": {
    "collapsed": false
   },
   "outputs": [
    {
     "name": "stdout",
     "output_type": "stream",
     "text": [
      "[[ 0.16724674  0.14919649  0.78755811]\n",
      " [ 0.5626943   0.11102855  0.08762335]]\n"
     ]
    }
   ],
   "source": [
    "random_array = np.random.random((2,3))  # Create an array filled with random values\n",
    "print(random_array)                     "
   ]
  },
  {
   "cell_type": "markdown",
   "metadata": {
    "collapsed": true,
    "deletable": true,
    "editable": true
   },
   "source": [
    "# SciPy Stats\n",
    "## Even more math than NumPy! Fresh new inferential analyses!\n",
    "## https://docs.scipy.org/doc/scipy/reference/tutorial/stats.html"
   ]
  },
  {
   "cell_type": "code",
   "execution_count": 52,
   "metadata": {
    "collapsed": false,
    "deletable": true,
    "editable": true
   },
   "outputs": [],
   "source": [
    "import scipy.stats as stats"
   ]
  },
  {
   "cell_type": "markdown",
   "metadata": {
    "collapsed": true,
    "deletable": true,
    "editable": true
   },
   "source": [
    "# pandas -- Python Data Analysis Library\n",
    "## Dictionaries with all the mathematical functionality of NumPy!\n",
    "## https://pandas.pydata.org/pandas-docs/stable/reference/index.html"
   ]
  },
  {
   "cell_type": "code",
   "execution_count": 53,
   "metadata": {
    "collapsed": true,
    "deletable": true,
    "editable": true
   },
   "outputs": [],
   "source": [
    "import pandas as pd"
   ]
  }
 ],
 "metadata": {
  "celltoolbar": "Raw Cell Format",
  "kernelspec": {
   "display_name": "Python 2",
   "language": "python",
   "name": "python2"
  },
  "language_info": {
   "codemirror_mode": {
    "name": "ipython",
    "version": 2
   },
   "file_extension": ".py",
   "mimetype": "text/x-python",
   "name": "python",
   "nbconvert_exporter": "python",
   "pygments_lexer": "ipython2",
   "version": "2.7.12"
  }
 },
 "nbformat": 4,
 "nbformat_minor": 0
}
